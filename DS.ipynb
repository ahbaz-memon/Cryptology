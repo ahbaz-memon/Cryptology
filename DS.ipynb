{
 "cells": [
  {
   "cell_type": "code",
   "execution_count": 1,
   "metadata": {},
   "outputs": [],
   "source": [
    "from Crypto.Util.number import *\n",
    "from random import *\n",
    "from hashlib import sha1"
   ]
  },
  {
   "cell_type": "code",
   "execution_count": 2,
   "metadata": {},
   "outputs": [],
   "source": [
    "def hash_function(message):\n",
    "    hashed=sha1(message.encode(\"UTF-8\")).hexdigest()\n",
    "    return hashed"
   ]
  },
  {
   "cell_type": "code",
   "execution_count": 3,
   "metadata": {},
   "outputs": [],
   "source": [
    "def mod_inverse(a, m) : \n",
    "    a=a%m; \n",
    "    for x in range(1,m) : \n",
    "        if((a*x)%m==1) : \n",
    "            return(x) \n",
    "    return(1)"
   ]
  },
  {
   "cell_type": "code",
   "execution_count": 4,
   "metadata": {},
   "outputs": [],
   "source": [
    "def parameter_generation():\n",
    "    q=getPrime(5)\n",
    "    p=getPrime(10)\n",
    "    while((p-1)%q!=0):\n",
    "        p=getPrime(10)\n",
    "        q=getPrime(5)\n",
    "\n",
    "    print(\"Prime divisor (q): \",q)\n",
    "    print(\"Prime modulus (p): \",p)\n",
    "\n",
    "    flag=True\n",
    "    while(flag):\n",
    "        h=int(input(\"Enter integer between 1 and p-1(h): \"))\n",
    "        if(1<h<(p-1)):\n",
    "            g=1\n",
    "            while(g==1):\n",
    "                g=pow(h,int((p-1)/q))%p\n",
    "            flag=False\n",
    "        else:\n",
    "            print(\"Wrong entry\")\n",
    "    print(\"Value of g is : \",g)\n",
    "    return(p,q,g)"
   ]
  },
  {
   "cell_type": "code",
   "execution_count": 5,
   "metadata": {},
   "outputs": [],
   "source": [
    "def per_user_key(p,q,g):\n",
    "    x=randint(1,q-1)\n",
    "    print(\"Randomly chosen x(Private key) is: \",x)\n",
    "\n",
    "    y=pow(g,x)%p\n",
    "    print(\"Randomly chosen y(Public key) is: \",y)\n",
    "    return(x,y)"
   ]
  },
  {
   "cell_type": "code",
   "execution_count": 6,
   "metadata": {},
   "outputs": [],
   "source": [
    "def signature(name,p,q,g,x):\n",
    "    with open(name) as file:\n",
    "        text=file.read()\n",
    "        hash_component = hash_function(text)\n",
    "        print(\"Hash of document sent is: \",hash_component)\n",
    "    r=0\n",
    "    s=0\n",
    "    while(s==0 or r==0):\n",
    "        k=randint(1,q-1)\n",
    "        r=((pow(g,k))%p)%q\n",
    "        i=mod_inverse(k,q)\n",
    "        hashed=int(hash_component,16)\n",
    "        s=(i*(hashed+(x*r)))%q\n",
    "    return(r,s,k)"
   ]
  },
  {
   "cell_type": "code",
   "execution_count": 7,
   "metadata": {},
   "outputs": [],
   "source": [
    "def verification(name,p,q,g,r,s,y):\n",
    "    with open(name) as file:\n",
    "        text=file.read()\n",
    "        hash_component = hash_function(text)\n",
    "        print(\"Hash of document received is: \",hash_component)\n",
    "\n",
    "    # computing w\n",
    "    w=mod_inverse(s,q)\n",
    "    print(\"Value of w is : \",w)\n",
    "    \n",
    "    hashed=int(hash_component,16)\n",
    "\n",
    "    # computing u1, u2 and v\n",
    "    u1=(hashed*w)%q \n",
    "    u2=(r*w)%q\n",
    "    v=((pow(g,u1)*pow(y,u2))%p)%q\n",
    "    \n",
    "    print(\"Value of u1 is: \",u1)\n",
    "    print(\"Value of u2 is: \",u2)\n",
    "    print(\"Value of v is : \",v)\n",
    "\n",
    "    if(v==r):\n",
    "        print(\"The signature is valid!\")\n",
    "    else:\n",
    "        print(\"The signature is invalid!\")"
   ]
  },
  {
   "cell_type": "code",
   "execution_count": 9,
   "metadata": {},
   "outputs": [
    {
     "name": "stdout",
     "output_type": "stream",
     "text": [
      "Prime divisor (q):  19\n",
      "Prime modulus (p):  761\n",
      "Enter integer between 1 and p-1(h): 17\n",
      "Value of g is :  152\n",
      "Randomly chosen x(Private key) is:  11\n",
      "Randomly chosen y(Public key) is:  232\n",
      "\n",
      "Enter the name of document to sign: untitled.txt \n",
      "Hash of document sent is:  ee7c55ac50dca0767cc45027c588ae3fcc8a363e\n",
      "r(Component of signature) is:  6\n",
      "k(Randomly chosen number) is:  17\n",
      "s(Component of signature) is:  18\n",
      "\n",
      "Enter the name of document to verify: untitled.txt \n",
      "Hash of document received is:  ee7c55ac50dca0767cc45027c588ae3fcc8a363e\n",
      "Value of w is :  18\n",
      "Value of u1 is:  7\n",
      "Value of u2 is:  13\n",
      "Value of v is :  6\n",
      "The signature is valid!\n"
     ]
    }
   ],
   "source": [
    "global_var=parameter_generation()\n",
    "keys=per_user_key(global_var[0],global_var[1],global_var[2])\n",
    "\n",
    "# Sender's side (signing the document):\n",
    "print()\n",
    "file_name=input(\"Enter the name of document to sign: \")\n",
    "components=signature(file_name,global_var[0],global_var[1],global_var[2],keys[0])\n",
    "\n",
    "print(\"r(Component of signature) is: \",components[0])\n",
    "print(\"k(Randomly chosen number) is: \",components[2])\n",
    "print(\"s(Component of signature) is: \",components[1])\n",
    "\n",
    "# Receiver's side (verifying the sign):\n",
    "print()\n",
    "file_name=input(\"Enter the name of document to verify: \")\n",
    "verification(file_name,global_var[0],global_var[1],global_var[2],components[0],components[1],keys[1])"
   ]
  },
  {
   "cell_type": "code",
   "execution_count": null,
   "metadata": {},
   "outputs": [],
   "source": []
  }
 ],
 "metadata": {
  "kernelspec": {
   "display_name": "Python [conda env:tensorflow_2] *",
   "language": "python",
   "name": "conda-env-tensorflow_2-py"
  },
  "language_info": {
   "codemirror_mode": {
    "name": "ipython",
    "version": 3
   },
   "file_extension": ".py",
   "mimetype": "text/x-python",
   "name": "python",
   "nbconvert_exporter": "python",
   "pygments_lexer": "ipython3",
   "version": "3.7.9"
  }
 },
 "nbformat": 4,
 "nbformat_minor": 4
}
